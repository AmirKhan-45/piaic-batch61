{
  "nbformat": 4,
  "nbformat_minor": 0,
  "metadata": {
    "colab": {
      "provenance": [],
      "authorship_tag": "ABX9TyO3mDTDAogtwRdJoZDZo46H",
      "include_colab_link": true
    },
    "kernelspec": {
      "name": "python3",
      "display_name": "Python 3"
    },
    "language_info": {
      "name": "python"
    }
  },
  "cells": [
    {
      "cell_type": "markdown",
      "metadata": {
        "id": "view-in-github",
        "colab_type": "text"
      },
      "source": [
        "<a href=\"https://colab.research.google.com/github/AmirKhan-45/piaic-batch61/blob/main/Untitled14.ipynb\" target=\"_parent\"><img src=\"https://colab.research.google.com/assets/colab-badge.svg\" alt=\"Open In Colab\"/></a>"
      ]
    },
    {
      "cell_type": "code",
      "execution_count": 17,
      "metadata": {
        "colab": {
          "base_uri": "https://localhost:8080/"
        },
        "id": "vxk7eg3jFQ3X",
        "outputId": "4db50e1c-0908-414c-c614-7784565f0f95"
      },
      "outputs": [
        {
          "output_type": "stream",
          "name": "stdout",
          "text": [
            "The account is created\n",
            "Enter the amount to be deposited: 10000\n",
            "Deposit is successful and the current balance in the account is 10000.000000\n",
            "Enter the amount to withdraw: 5000\n",
            "The withdraw is successful\n",
            "Balance in the account is 5000.000000\n"
          ]
        }
      ],
      "source": [
        "class Bank:\n",
        "    def __init__(self): # Changed _init_ to __init__\n",
        "        self.balance = 0\n",
        "        print(\"The account is created\")\n",
        "\n",
        "    def deposit(self):\n",
        "        amount = float(input(\"Enter the amount to be deposited: \"))\n",
        "        self.balance += amount\n",
        "        print(\"Deposit is successful and the current balance in the account is %f\" % self.balance) # Added print statement\n",
        "\n",
        "    def withdraw(self):\n",
        "        amount = float(input(\"Enter the amount to withdraw: \"))\n",
        "        if self.balance >= amount:\n",
        "            self.balance -= amount\n",
        "            print(\"The withdraw is successful\")\n",
        "        else:\n",
        "            print(\"Insufficient balance\")\n",
        "\n",
        "    def enquary(self):\n",
        "        print(\"Balance in the account is %f\" % self.balance)\n",
        "\n",
        "acc = Bank()\n",
        "acc.deposit()\n",
        "acc.withdraw()\n",
        "acc.enquary()\n"
      ]
    }
  ]
}
{
  "nbformat": 4,
  "nbformat_minor": 0,
  "metadata": {
    "colab": {
      "provenance": [],
      "authorship_tag": "ABX9TyMy2/R3It8Qz5yZ7wIBYrDy",
      "include_colab_link": true
    },
    "kernelspec": {
      "name": "python3",
      "display_name": "Python 3"
    },
    "language_info": {
      "name": "python"
    }
  },
  "cells": [
    {
      "cell_type": "markdown",
      "metadata": {
        "id": "view-in-github",
        "colab_type": "text"
      },
      "source": [
        "<a href=\"https://colab.research.google.com/github/AmirKhan-45/piaic-batch61/blob/main/Project5.ipynb\" target=\"_parent\"><img src=\"https://colab.research.google.com/assets/colab-badge.svg\" alt=\"Open In Colab\"/></a>"
      ]
    },
    {
      "cell_type": "markdown",
      "source": [
        "# 5. Random_Numbers\n",
        "Print 10 random numbers in the range 1 to 100.\n",
        "\n",
        "Here is an example run:\n",
        "\n",
        "45 79 61 47 52 10 16 83 19 12\n",
        "\n",
        "Each time you run your program you should get different numbers\n",
        "\n",
        "81 76 70 1 27 63 96 100 32 92"
      ],
      "metadata": {
        "id": "xlIuhWYvH_nu"
      }
    },
    {
      "cell_type": "code",
      "source": [
        "import random\n",
        "# Solution to get a random number\n",
        "MIN_NUMBER : int = 1\n",
        "MAX_NUMBER : int  = 100\n",
        "N_RANDOM_NUMBERS : int  = 10\n",
        "# Function\n",
        "# Use for\n",
        "number_list = []\n",
        "for i in range(N_RANDOM_NUMBERS):\n",
        "   rand_number = random.randint(MIN_NUMBER, MAX_NUMBER)\n",
        "   number_list.append(rand_number)\n",
        "   print(rand_number, end=\" \")\n",
        ""
      ],
      "metadata": {
        "colab": {
          "base_uri": "https://localhost:8080/"
        },
        "id": "sZFwdOXqIPny",
        "outputId": "a85cc8d5-5165-4a5a-8040-7b4fbd1310c7"
      },
      "execution_count": 11,
      "outputs": [
        {
          "output_type": "stream",
          "name": "stdout",
          "text": [
            "99 86 20 66 14 45 62 63 85 19 "
          ]
        }
      ]
    }
  ]
}
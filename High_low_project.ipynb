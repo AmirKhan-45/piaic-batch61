{
  "nbformat": 4,
  "nbformat_minor": 0,
  "metadata": {
    "colab": {
      "provenance": [],
      "authorship_tag": "ABX9TyNwEBCC4bhTh2MrqH6SW/eA",
      "include_colab_link": true
    },
    "kernelspec": {
      "name": "python3",
      "display_name": "Python 3"
    },
    "language_info": {
      "name": "python"
    }
  },
  "cells": [
    {
      "cell_type": "markdown",
      "metadata": {
        "id": "view-in-github",
        "colab_type": "text"
      },
      "source": [
        "<a href=\"https://colab.research.google.com/github/AmirKhan-45/piaic-batch61/blob/main/High_low_project.ipynb\" target=\"_parent\"><img src=\"https://colab.research.google.com/assets/colab-badge.svg\" alt=\"Open In Colab\"/></a>"
      ]
    },
    {
      "cell_type": "code",
      "source": [
        "import random\n",
        "\n",
        "NUM_ROUNDS = 2\n",
        "\n",
        "current_round = 0\n",
        "score = 0\n",
        "while True:\n",
        "  print(\"Welcome to the High-Low Game!\")\n",
        "  print('--------------------------------')\n",
        "\n",
        "  current_round += 1\n",
        "  if current_round > NUM_ROUNDS:\n",
        "    break\n",
        "\n",
        " # Milestone 1: Generate the random numbers\n",
        "\n",
        "  user_number = random.randint(1, 100)\n",
        "  computer_number = random.randint(1, 100)\n",
        "  print(\"Your number: \", user_number)\n",
        "\n",
        "  #milestone 2: Get the User Choice\n",
        "  # Get user input for their choice of weather they think their number is higher or lower than the computer's number.\n",
        "  high_low_choice: str = input(\"Do you think your number is higher or lower than the computer's: \")\n",
        "  print(high_low_choice)\n",
        "  is_user_higher_than_computer: bool= True if user_number > computer_number else False\n",
        "  is_user_choice_correct: bool = True if (high_low_choice == \"high\" and is_user_higher_than_computer) or (high_low_choice == \"low\" and not is_user_higher_than_computer) else False\n",
        "  if is_user_choice_correct:\n",
        "    score +=1\n",
        "    print(\"You were right!\")\n",
        "  else:\n",
        "    print(\"Your were wrong!\")\n",
        "\n",
        "  print(\"is_user_choice_correct\", is_user_choice_correct)\n",
        "  print(\"Computer's number :\", computer_number)"
      ],
      "metadata": {
        "id": "hIov06QO20_s"
      },
      "execution_count": null,
      "outputs": []
    }
  ]
}
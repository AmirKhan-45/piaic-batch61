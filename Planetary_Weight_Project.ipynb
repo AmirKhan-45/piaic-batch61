{
  "nbformat": 4,
  "nbformat_minor": 0,
  "metadata": {
    "colab": {
      "provenance": [],
      "authorship_tag": "ABX9TyOGl5AAwLwPwDfjMDsjjId3",
      "include_colab_link": true
    },
    "kernelspec": {
      "name": "python3",
      "display_name": "Python 3"
    },
    "language_info": {
      "name": "python"
    }
  },
  "cells": [
    {
      "cell_type": "markdown",
      "metadata": {
        "id": "view-in-github",
        "colab_type": "text"
      },
      "source": [
        "<a href=\"https://colab.research.google.com/github/AmirKhan-45/piaic-batch61/blob/main/Planetary_Weight_Project.ipynb\" target=\"_parent\"><img src=\"https://colab.research.google.com/assets/colab-badge.svg\" alt=\"Open In Colab\"/></a>"
      ]
    },
    {
      "cell_type": "markdown",
      "source": [
        "# 1. Planetary Weights Project\n",
        "\"\"\"\n",
        "Prompts the user for a weight on Earth\n",
        "and a planet (in separate inputs). Then\n",
        "prints the equivalent weight on that planet.\n",
        "\n",
        "Note that the user should type in a planet with\n",
        "the first letter as uppercase, and you do not need\n",
        "to handle the case where a user types in something\n",
        "other than one of the planets (that is not Earth).\n",
        "\"\"\""
      ],
      "metadata": {
        "id": "85C4o6z6GD_F"
      }
    },
    {
      "cell_type": "code",
      "source": [
        "gravity_constants = {\n",
        "    \"Mercury\": 0.376,\n",
        "    \"Venus\": 0.889,\n",
        "    \"Mars\": 0.378,\n",
        "    \"Jupiter\": 2.360,\n",
        "    \"Saturn\": 1.081,\n",
        "    \"Uranus\": 0.815,\n",
        "    \"Neptune\": 1.140\n",
        "}\n",
        "\n",
        "\n",
        "def calculate_weight_on_planet(earth_weight, planet):\n",
        "\n",
        "  if planet in gravity_constants:\n",
        "    weight_on_planet = earth_weight * gravity_constants[planet]\n",
        "    return f\"Your weight on {planet} is: {weight_on_planet:.2f}\"\n",
        "  else:\n",
        "    return \"Invalid planet name.\"\n",
        "\n",
        "\n",
        "def main():\n",
        "\n",
        "  while True:\n",
        "    try:\n",
        "      earth_weight = float(input(\"Enter your weight on Earth: \"))\n",
        "      break\n",
        "    except ValueError:\n",
        "      print(\"Invalid input. Please enter a number for your weight.\")\n",
        "\n",
        "  planet = input(\"Enter the name of a planet (e.g., Mars, Jupiter): \")\n",
        "  print(calculate_weight_on_planet(earth_weight, planet))\n",
        "\n",
        "\n",
        "if __name__ == \"__main__\":\n",
        "  main()"
      ],
      "metadata": {
        "colab": {
          "base_uri": "https://localhost:8080/"
        },
        "id": "jWfu1EYaToG2",
        "outputId": "183522b4-9ee1-498d-92a6-0bf1bf4ce357"
      },
      "execution_count": 21,
      "outputs": [
        {
          "output_type": "stream",
          "name": "stdout",
          "text": [
            "Enter your weight on Earth: 51\n",
            "Enter the name of a planet (e.g., Mars, Jupiter): Mars\n",
            "Your weight on Mars is: 19.28\n"
          ]
        }
      ]
    }
  ]
}
{
  "nbformat": 4,
  "nbformat_minor": 0,
  "metadata": {
    "colab": {
      "provenance": [],
      "authorship_tag": "ABX9TyMACZ9dtJRQhGXFMh6NV0AD",
      "include_colab_link": true
    },
    "kernelspec": {
      "name": "python3",
      "display_name": "Python 3"
    },
    "language_info": {
      "name": "python"
    }
  },
  "cells": [
    {
      "cell_type": "markdown",
      "metadata": {
        "id": "view-in-github",
        "colab_type": "text"
      },
      "source": [
        "<a href=\"https://colab.research.google.com/github/AmirKhan-45/piaic-batch61/blob/main/Project4.ipynb\" target=\"_parent\"><img src=\"https://colab.research.google.com/assets/colab-badge.svg\" alt=\"Open In Colab\"/></a>"
      ]
    },
    {
      "cell_type": "markdown",
      "source": [
        "# 4. Guess My Number\n",
        "Guess My Number\n",
        "\n",
        "I am thinking of a number between 0 and 99... Enter a guess: 50 Your guess is too high\n",
        "\n",
        "Enter a new number: 25 Your guess is too low\n",
        "\n",
        "Enter a new number: 40 Your guess is too low\n",
        "\n",
        "Enter a new number: 45 Your guess is too low\n",
        "\n",
        "Enter a new number: 48 Congrats! The number was: 48"
      ],
      "metadata": {
        "id": "jQ6E1YOy9a33"
      }
    },
    {
      "cell_type": "code",
      "source": [
        "import random\n",
        "\n",
        "random_generated_num = random.randint(1, 100)\n",
        "print(random_generated_num)\n",
        "allowed_attempts = 5\n",
        "user_attempts = 0\n",
        "while True:\n",
        "  print(f\"Attempts left: {allowed_attempts - user_attempts}\")\n",
        "  if (user_attempts == allowed_attempts):\n",
        "    print(\"Game Over!\")\n",
        "    break\n",
        "  user_input: int = int(input(\"Enter a number: \"))\n",
        "  user_attempts += 1\n",
        "  if user_input == random_generated_num:\n",
        "      print(\"Congrats! The number was: \", random_generated_num)\n",
        "      break\n",
        "  if user_input < random_generated_num:\n",
        "      print(\"Your guess is too low\")\n",
        "  elif user_input > random_generated_num:\n",
        "      print(\"Your guess is too high\")\n",
        "  else:\n",
        "      print(\"Invalid Number\")"
      ],
      "metadata": {
        "colab": {
          "base_uri": "https://localhost:8080/"
        },
        "id": "v54k-2DE9qcK",
        "outputId": "eed6aacb-0315-4351-f889-30c51577ea6c"
      },
      "execution_count": 2,
      "outputs": [
        {
          "output_type": "stream",
          "name": "stdout",
          "text": [
            "65\n",
            "Attempts left: 5\n",
            "Enter a number: 2\n",
            "Your guess is too low\n",
            "Attempts left: 4\n",
            "Enter a number: 56\n",
            "Your guess is too low\n",
            "Attempts left: 3\n",
            "Enter a number: 87\n",
            "Your guess is too high\n",
            "Attempts left: 2\n",
            "Enter a number: 75\n",
            "Your guess is too high\n",
            "Attempts left: 1\n",
            "Enter a number: 67\n",
            "Your guess is too high\n",
            "Attempts left: 0\n",
            "Game Over!\n"
          ]
        }
      ]
    }
  ]
}